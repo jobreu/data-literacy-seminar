{
 "cells": [
  {
   "cell_type": "markdown",
   "metadata": {},
   "source": [
    "# Eigene Fitbit-Daten explorieren"
   ]
  },
  {
   "cell_type": "markdown",
   "metadata": {},
   "source": [
    "Vorab für diejenigen, die es evtl. noch nicht mitbekommen haben: [Fitbit gehört mittlerweile zu Google](https://www.heise.de/news/Google-schliesst-Fitbit-Uebernahme-ab-5024699.html). D.h., wenn wir Google-Services und FitBit nutzen, können nicht nur wir diese Daten für unsere eigenen Analysen kombinieren, sondern Google kann dies nun auch."
   ]
  },
  {
   "cell_type": "markdown",
   "metadata": {},
   "source": [
    "Wie auch für alle anderen Notebooks müssen wir zunächst unsere [eigenen Daten exportieren](https://help.fitbit.com/articles/en_US/Help_article/1133.htm). Hierzu gibt es bei Fitbit grundlegend 2 Optionen:\n",
    "1. Man kann einen Teil seiner Daten (z.B. zu Aktivitäten und Schlaf) für einen bestimmten Zeitraum (maximal einen Monat) als `CSV`-Dateien exportieren. Wenn wir die Daten für mehrere Monate haben möchten, müssen wir den Export entsprechend mehrfach manuell durchführen.\n",
    "1. Man kann das komplette Kontoarchiv anfordern. Diese Daten sind wesentlich umfangreicher, decken den gesamten Nutzungszeitraum ab und werden (größtenteils) im `JSON`-Format exportiert."
   ]
  },
  {
   "cell_type": "markdown",
   "metadata": {},
   "source": [
    "Wir werden in diesem Notebook hauptsächlich mit Daten aus dem vollständigen Kontoarchiv arbeiten, aber auch kurz auf das Einlesen der einzeln exportierbaren `CSV`-Dateien eingehen."
   ]
  },
  {
   "cell_type": "markdown",
   "metadata": {},
   "source": [
    "Wenn Sie die Datei mit dem Kontoarchiv heruntergeladen haben, müssen die diese entpacken. Die Daten sollten dann im Ordner `MyFitbitData/Ihr_Name` liegen. Wir werden uns in diesem Notebook auf Daten zu Schritten und Schlaf fokussieren. Diese sind in den Unterordnern `Physical Activity` und `Sleep` zu finden. "
   ]
  },
  {
   "cell_type": "markdown",
   "metadata": {},
   "source": [
    "Auch die FitBit-Daten müssen wir hier hochladen, damit wir im Notebook mit ihnen arbeiten können. Da diese mehrere Dateien sind und um zumindest ein bisschen Ordnung zu halten, was v.a. sinnvoll ist, wenn wir (in einer Sitzung) mit mehreren Notebooks und Datentypen, erstellen wir einen neuen Unterordner für die Fitbit-Daten im `data`-Ordner."
   ]
  },
  {
   "cell_type": "code",
   "execution_count": null,
   "metadata": {},
   "outputs": [],
   "source": [
    "dir.create(\"./data/fitbit\")"
   ]
  },
  {
   "cell_type": "markdown",
   "metadata": {},
   "source": [
    "Nun können wir die Dateien in diesen neu erstellten Ordner laden. Wir nutzen in diesem Notebook die Daten zu den gezählten Schritten (Steps) sowie zum Schlag (Sleep). Die benötigten `JSON`-Files sind in den o.g. Ordnern im exportierten Archiv zu finden. Die Namen der Dateien zu den Schritten beginnen mit \"steps-\" und bei den Schlaf-Daten beginnen die Dateinamen mit \"sleep-\", jeweils gefolgt von einem Datum im Format JJJJ-MM-TT."
   ]
  },
  {
   "cell_type": "markdown",
   "metadata": {},
   "source": [
    "Wenn Sie auch (oder nur) die `CSV`-Dateien mit einer Auswahl der Daten für (jeweils) maximal einen Monat exportiert haben, können Sie diese ebenso hier in den Ordner `data/fitbit` hochladen. Die Namen dieser Dateien sollten dem Muster \"fitbit_export_JJJJMMTT.csv\" entsprechen."
   ]
  },
  {
   "cell_type": "markdown",
   "metadata": {},
   "source": [
    "**Hinweis**: Wenn Sie Fitbit schon lange nutzen, kann die Anzahl der Dateien recht groß sein. In diesem Fall können der Upload sowie das Einlesen (im Code weiter unten) etwas länger dauern. Eine Möglichkeit, dem entgegenzuwirken, ist, nur einen Teil der jeweiligen Daten/Dateien zu nutzen (und somit den Zeitraum einzugrenzen)."
   ]
  },
  {
   "cell_type": "markdown",
   "metadata": {},
   "source": [
    "**Zur Erinnerung**: Ihre persönliche Kopie des Notebooks sowie alle Dateien, die Sie hochladen, werden am Ende der Nutzungssitzung gelöscht (es sei denn, Sie haben und nutzen einen Account für GESIS Notebooks). Wenn Sie aber ganz \"auf Nummer sicher gehen\" wollen, können Sie die Dateien mit Ihren Fitbit-Daten über den File Explorer auf der linken Seite nach dem Durcharbeiten dieses Notebooks auch manuell löschen: Rechtsklick auf den Dateinamen und dann *Delete* auswählen."
   ]
  },
  {
   "cell_type": "markdown",
   "metadata": {},
   "source": [
    "# Pakete laden"
   ]
  },
  {
   "cell_type": "markdown",
   "metadata": {},
   "source": [
    "Bevor wir mit den Daten arbeiten können laden wir die `R`-Pakete, die wir dafür brauchen."
   ]
  },
  {
   "cell_type": "code",
   "execution_count": null,
   "metadata": {},
   "outputs": [],
   "source": [
    "library(readr)\n",
    "library(jsonlite)\n",
    "library(dplyr)\n",
    "library(lubridate)\n",
    "library(ggplot2)\n",
    "library(scales)\n",
    "library(stringr)\n",
    "library(purrr)"
   ]
  },
  {
   "cell_type": "markdown",
   "metadata": {},
   "source": [
    "## Daten einlesen & aufbereiten"
   ]
  },
  {
   "cell_type": "markdown",
   "metadata": {},
   "source": [
    "### `CSV`-Dateien mit einer Datenauswahl pro Monat"
   ]
  },
  {
   "cell_type": "markdown",
   "metadata": {},
   "source": [
    "**Hinweis**: Wenn man beim direkten `CSV`-Export im eigenen FitBit-Account mehrere Datentypen auf einmal auswählt, werden diese mit verschiedenen Spalten-/Variablennamen untereinander in eine `CSV`-Datei geschrieben. Dies ist ungünstig, um die Daten z.B. mit `R` oder `Python` zu öffnen und zu bearbeiten. Die Datentypen sollten daher als einzelne `CSV`-Dateien exportiert werden (z.B. eine für Sleep und eine für Activities). "
   ]
  },
  {
   "cell_type": "markdown",
   "metadata": {},
   "source": [
    "**NB**: Ich habe die beiden `CSV`-Dateien umbenannt, damit der Dateiname anzeigt, welche Art von Daten diese enthalten. Für Ihre Daten müssen Sie die Dateinamen in der nachfolgenden Code-Zelle entsprechend anpassen."
   ]
  },
  {
   "cell_type": "markdown",
   "metadata": {},
   "source": [
    "Wie zuvor gesagt, beschränken wir uns in diesem Notebook auf die Daten zu Schlaf und Aktivitäten (Schritte) und werden die eigentliche Exploration im weiteren Verlauf mit den Daten aus dem kompletten Kontoarchiv durchführen."
   ]
  },
  {
   "cell_type": "code",
   "execution_count": null,
   "metadata": {},
   "outputs": [],
   "source": [
    "activities_122020 <- read_csv(\"./data/fitbit/fitbit_export_20210112_activities.csv\",\n",
    "                              locale = locale(grouping_mark = \".\"),\n",
    "                              skip = 1)\n",
    "\n",
    "sleep_122020 <- read_csv(\"./data/fitbit/fitbit_export_20210112_sleep.csv\",\n",
    "                              skip = 1)\n",
    "\n",
    "sleep_122020 <- sleep_122020 %>% \n",
    "  mutate(fell_asleep = parse_date_time(Startzeit, \n",
    "                                       orders = \"dmYIMp\",\n",
    "                                       tz = \"Europe/Berlin\"),\n",
    "         woke_up = parse_date_time(Endzeit, \n",
    "                                       orders = \"dmYIMp\",\n",
    "                                       tz = \"Europe/Berlin\"))"
   ]
  },
  {
   "cell_type": "markdown",
   "metadata": {},
   "source": [
    "Da wir im weiteren Verlauf des Notebooks mit den Daten aus den `JSON`-Files aus dem vollständigen Kontoarchiv arbeiten, schauen wir uns für die `CSV`-Exporte nur die Variablennamen sowie die jeweils ersten zehn Fälle an."
   ]
  },
  {
   "cell_type": "code",
   "execution_count": null,
   "metadata": {},
   "outputs": [],
   "source": [
    "names(activities_122020)\n",
    "head(activities_122020, 10)\n",
    "\n",
    "names(sleep_122020)\n",
    "head(sleep_122020, 10)"
   ]
  },
  {
   "cell_type": "markdown",
   "metadata": {},
   "source": [
    "### Daten aus dem Kontoarchiv"
   ]
  },
  {
   "cell_type": "markdown",
   "metadata": {},
   "source": [
    "Nun lesen wir die Daten zu Schlaf und Schritten aus dem kompletten Kontoarchiv ein. Da diese auf mehrere `JSON`-Dateien verteilt sind, müssen wir diese aus dem entsprechenden Verzeichnis einlesen und kombinieren."
   ]
  },
  {
   "cell_type": "markdown",
   "metadata": {},
   "source": [
    "Sidenote: Anstatt die einzelnen `JSON`-Files mit `R` einzulesen und zu verbinden, ist es auch möglich, das Tool [Fitbit Data JSON to .csv File Converter](https://iccir919.github.io/fitbit-json-to-csv/index.html) zu nutzen. Diese läuft lokal im Browser und verbindet die `JSON`-Dateien zu (großen) `CSV`-Dateien (**NB**: Bei mir hat das nicht 100%ig funktioniert: Von den 18 Dateien, die ich in meinem Test mit diesem Tool zusammenfügen wollte, wurden nur 16 verbunden, weshalb ein Teil der Daten im entstandenen `CSV`- File fehlte). Das Tool übernimmt neben der Verknüpfung der Dateien und der Konvertierung des Formats auch die Erstellung korrekter Zeitstempel. Die resultierenden `CSV`-Dateien kann man dann bspw. in `R` wie in der Code-Zelle oben mit dem Befehl `read_csv` aus dem `dplyr`-Paket einlesen."
   ]
  },
  {
   "cell_type": "code",
   "execution_count": null,
   "metadata": {},
   "outputs": [],
   "source": [
    "path <- \"./data/fitbit\"\n",
    "files <- dir(path, pattern = \"*.json\")\n",
    "files_steps <- str_subset(files, \"steps\")\n",
    "\n",
    "steps <- files_steps %>%\n",
    "  map_df(~fromJSON(file.path(path, .), flatten = TRUE))\n",
    "\n",
    "steps <- steps %>% \n",
    "  mutate(datetime = mdy_hms(dateTime, tz = \"GMT\"),\n",
    "         datetime = with_tz(datetime, tzone = \"Europe/Berlin\"),\n",
    "         date = as_date(datetime),\n",
    "         wday = wday(date, week_start = 1, label = T),\n",
    "         value = as.numeric(value))\n",
    "\n",
    "files_sleep <- str_subset(files, \"sleep\")\n",
    "\n",
    "sleep <- files_sleep %>%\n",
    "  map_df(~fromJSON(file.path(path, .), flatten = TRUE))\n",
    "\n",
    "sleep <- sleep %>%\n",
    "  distinct(startTime, .keep_all = T) %>% \n",
    "  select(dateOfSleep, minutesAsleep) %>% \n",
    "  mutate(date = ymd(dateOfSleep),\n",
    "         wday = wday(date, week_start = 1, label = T))"
   ]
  },
  {
   "cell_type": "markdown",
   "metadata": {},
   "source": [
    "Wie sehen die Daten aus?"
   ]
  },
  {
   "cell_type": "code",
   "execution_count": null,
   "metadata": {},
   "outputs": [],
   "source": [
    "names(steps)\n",
    "head(steps, 10)\n",
    "\n",
    "names(sleep)\n",
    "head(sleep, 10)"
   ]
  },
  {
   "cell_type": "markdown",
   "metadata": {},
   "source": [
    "## Schritte"
   ]
  },
  {
   "cell_type": "markdown",
   "metadata": {},
   "source": [
    "Welchen Zeitraum decken die Daten ab?"
   ]
  },
  {
   "cell_type": "code",
   "execution_count": null,
   "metadata": {},
   "outputs": [],
   "source": [
    "min(steps$date)\n",
    "max(steps$date)"
   ]
  },
  {
   "cell_type": "markdown",
   "metadata": {},
   "source": [
    "### Durchschnittliche Anzahl von Schritten pro Wochentag"
   ]
  },
  {
   "cell_type": "code",
   "execution_count": null,
   "metadata": {},
   "outputs": [],
   "source": [
    "options(scipen = 10)\n",
    "\n",
    "steps %>% \n",
    "  group_by(date) %>% \n",
    "  summarize(steps = sum(value)) %>% \n",
    "  ungroup() %>% \n",
    "  mutate(wday = wday(date, week_start = 1, label = T)) %>% \n",
    "  group_by(wday) %>% \n",
    "  summarize(avg_steps = mean(steps, na.rm = T)) %>% \n",
    "  ungroup() %>% \n",
    "  ggplot(aes(x = wday, y = avg_steps)) +\n",
    "  geom_bar(stat = \"identity\") +\n",
    "  scale_y_continuous(expand = expansion(mult=c(0,0.1))) +\n",
    "  labs(title = \"Average number of steps per weekday as tracked by Fitbit\",\n",
    "       x = \"Weekday\",\n",
    "       y = \"Steps\")"
   ]
  },
  {
   "cell_type": "markdown",
   "metadata": {},
   "source": [
    "### Schritte pro Tag"
   ]
  },
  {
   "cell_type": "code",
   "execution_count": null,
   "metadata": {},
   "outputs": [],
   "source": [
    "steps_per_day <- steps %>% \n",
    "  group_by(date) %>% \n",
    "  summarize(steps = sum(value)) %>% \n",
    "  ungroup()\n",
    "\n",
    "summary(steps_per_day$steps) "
   ]
  },
  {
   "cell_type": "markdown",
   "metadata": {},
   "source": [
    "Welches waren die aktivsten Tage?"
   ]
  },
  {
   "cell_type": "code",
   "execution_count": null,
   "metadata": {},
   "outputs": [],
   "source": [
    "steps_per_day %>% \n",
    "  arrange(-steps) %>% \n",
    "  head(10)"
   ]
  },
  {
   "cell_type": "markdown",
   "metadata": {},
   "source": [
    "### Schritte pro Monat"
   ]
  },
  {
   "cell_type": "code",
   "execution_count": null,
   "metadata": {},
   "outputs": [],
   "source": [
    "steps_per_day %>%\n",
    "  mutate(time_floor = floor_date(date, unit = \"1 month\")) %>%\n",
    "  group_by(time_floor) %>%\n",
    "  summarize(steps = sum(steps)) %>% \n",
    "  ggplot(aes(x = as.factor(str_sub(as.character(time_floor), end = -4)), y = steps)) +\n",
    "  geom_bar(stat = \"identity\") +\n",
    "  scale_y_continuous(expand = expansion(mult=c(0,0.1))) +\n",
    "  labs(title = \"Number of steps taken per month\",\n",
    "       x = \"Month\",\n",
    "       y = \"Number of steps\") +\n",
    "  theme(axis.text.x = element_text(angle = 90, vjust = 0.5, hjust=1))"
   ]
  },
  {
   "cell_type": "markdown",
   "metadata": {},
   "source": [
    "## Schlaf"
   ]
  },
  {
   "cell_type": "markdown",
   "metadata": {},
   "source": [
    "Welchen Zeitraum decken die Daten ab?"
   ]
  },
  {
   "cell_type": "code",
   "execution_count": null,
   "metadata": {},
   "outputs": [],
   "source": [
    "min(sleep$date)\n",
    "max(sleep$date)"
   ]
  },
  {
   "cell_type": "markdown",
   "metadata": {},
   "source": [
    "### Durchschnittliche Schlafdauer pro Wochentag"
   ]
  },
  {
   "cell_type": "code",
   "execution_count": null,
   "metadata": {},
   "outputs": [],
   "source": [
    "sleep %>% \n",
    "  group_by(date) %>% \n",
    "  mutate(hrs_of_sleep = sum(minutesAsleep)/60) %>% \n",
    "  ungroup() %>% \n",
    "  group_by(wday) %>% \n",
    "  summarize(avg_hrs_sleep = mean(hrs_of_sleep, na.rm = T)) %>% \n",
    "  ungroup() %>% \n",
    "  ggplot(aes(x = wday, y = avg_hrs_sleep)) +\n",
    "  geom_bar(stat = \"identity\") +\n",
    "  scale_y_continuous(expand = expansion(mult=c(0,0.1))) +\n",
    "  labs(title = \"Average hours of sleep per weekday as tracked by Fitbit\",\n",
    "       x = \"Weeday\",\n",
    "       y = \"Average hours of sleep\")"
   ]
  },
  {
   "cell_type": "markdown",
   "metadata": {},
   "source": [
    "### Schlafstunden pro Tag"
   ]
  },
  {
   "cell_type": "markdown",
   "metadata": {},
   "source": [
    "Mittlere, minimale und maximale aufgezeichnete Anzahl an Schlafstunden."
   ]
  },
  {
   "cell_type": "code",
   "execution_count": null,
   "metadata": {},
   "outputs": [],
   "source": [
    "sleep_day <- sleep %>%\n",
    "  group_by(date) %>%\n",
    "  summarize(sleep_tot=sum(minutesAsleep)/60)\n",
    "\n",
    "mean(sleep_day$sleep_tot)\n",
    "\n",
    "min(sleep_day$sleep_tot)\n",
    "max(sleep_day$sleep_tot)"
   ]
  },
  {
   "cell_type": "markdown",
   "metadata": {},
   "source": [
    "Für wie viele Tage liegen Daten vor?"
   ]
  },
  {
   "cell_type": "code",
   "execution_count": null,
   "metadata": {},
   "outputs": [],
   "source": [
    "n_distinct(sleep_day$date)"
   ]
  },
  {
   "cell_type": "markdown",
   "metadata": {},
   "source": [
    "### Verteilung der Schlafstunden"
   ]
  },
  {
   "cell_type": "markdown",
   "metadata": {},
   "source": [
    "**NB**: Die Anzahl der Tage im Subtitel des Plots können bzw. sollten Sie entsprechend des Outputs der vorherigen Code-Zelle anpassen."
   ]
  },
  {
   "cell_type": "code",
   "execution_count": null,
   "metadata": {},
   "outputs": [],
   "source": [
    "sleep_day %>% \n",
    "ggplot(aes(x = sleep_tot))+\n",
    "  geom_histogram(binwidth = 0.5) +\n",
    "  scale_x_continuous(breaks = seq(0, 12 , 1),\n",
    "                     expand = expansion(mult=c(0,0))) +\n",
    "  scale_y_continuous(expand = expansion(mult=c(0,0.1))) +\n",
    "  coord_cartesian(xlim=c(0, 12)) +\n",
    "  labs(title = \"How many hours do I sleep per day?\", \n",
    "       subtitle = \"Data from 372 days of wearing a Fitbit\",\n",
    "       x = \"Hours of sleep\",\n",
    "       y = \"Count\") +\n",
    "  theme_minimal()"
   ]
  },
  {
   "cell_type": "markdown",
   "metadata": {},
   "source": [
    "## Ausblick"
   ]
  },
  {
   "cell_type": "markdown",
   "metadata": {},
   "source": [
    "In den Fitbit-Daten stecken natürlich noch viel mehr Informationen drin. Wir haben uns davon hier nur einen sehr kleinen Ausschnitt angeschaut und auch mit den Daten, die wir in diesem Notebook explorieren, sind noch viele andere Analysen möglich. Ähnlich wie auch für die anderen Daten(typen) gibt es im Netz einige Tutotials zur Exploration von Fitbit-Daten (ein sehr umfangreiches zu Schlafdaten gibt es z.B. [hier](https://thelittledataset.com/2020/02/04/fitbit-sleep/))."
   ]
  },
  {
   "cell_type": "markdown",
   "metadata": {},
   "source": [
    "Wie bie Twitter ist es auch möglich, die eigenen Daten über die API von Fitbit zu sammeln. Hierzu eignet sich das `R`-Paket [`fitbitr`](https://github.com/teramonagi/fitbitr). Ebenso wie für Twitter-Daten sind für die Nutzung der API ein Developer Account sowie die Erstellung einer \"App\" nötig. Wie dies geht, wird in der Dokumentation des `fitbitr`-Pakets (auf GitHub) beschrieben."
   ]
  }
 ],
 "metadata": {
  "kernelspec": {
   "display_name": "R",
   "language": "R",
   "name": "ir"
  },
  "language_info": {
   "codemirror_mode": "r",
   "file_extension": ".r",
   "mimetype": "text/x-r-source",
   "name": "R",
   "pygments_lexer": "r",
   "version": "3.6.1"
  }
 },
 "nbformat": 4,
 "nbformat_minor": 4
}
